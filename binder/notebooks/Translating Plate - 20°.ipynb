{
 "cells": [
  {
   "cell_type": "markdown",
   "metadata": {},
   "source": [
    "# Translating Plate at 20°"
   ]
  },
  {
   "cell_type": "code",
   "execution_count": 1,
   "metadata": {
    "collapsed": true
   },
   "outputs": [],
   "source": [
    "using PotentialFlow\n",
    "using Compat"
   ]
  },
  {
   "cell_type": "markdown",
   "metadata": {},
   "source": [
    "## Set up"
   ]
  },
  {
   "cell_type": "markdown",
   "metadata": {},
   "source": [
    "At the beginning of every time-step, we first determine the bound vortex sheet strength required to satisfy the no-flow-through condition, then velocity of all vortex elements:"
   ]
  },
  {
   "cell_type": "code",
   "execution_count": 2,
   "metadata": {},
   "outputs": [
    {
     "data": {
      "text/plain": [
       "compute_ẋ! (generic function with 1 method)"
      ]
     },
     "execution_count": 2,
     "metadata": {},
     "output_type": "execute_result"
    }
   ],
   "source": [
    "function compute_ẋ!(ẋ, x, t)\n",
    "    plate, ambient_sys = x\n",
    "    motion, ambient_vel = ẋ\n",
    "    \n",
    "    Plates.enforce_no_flow_through!(plate, motion, ambient_sys, t)\n",
    "    \n",
    "    reset_velocity!(ẋ, x)\n",
    "    self_induce_velocity!(ẋ, x, t)\n",
    "end"
   ]
  },
  {
   "cell_type": "markdown",
   "metadata": {},
   "source": [
    "Once we have advected all the vortex elements, we release new segments of the vortex sheet from the edges of the plate.\n",
    "Since we are dealing with a low angle of attack case, only the trailing edge will be forced to satisfy the Kutta condition.\n",
    "Vorticity released from the leading edge will instead follow the leading edge suction parameter (LESP) criteria described in [Ramesh et al. 2014](https://doi.org/10.1017/jfm.2014.297)."
   ]
  },
  {
   "cell_type": "code",
   "execution_count": 3,
   "metadata": {},
   "outputs": [
    {
     "data": {
      "text/plain": [
       "shed_new_vorticity! (generic function with 3 methods)"
      ]
     },
     "execution_count": 3,
     "metadata": {},
     "output_type": "execute_result"
    }
   ],
   "source": [
    "function shed_new_vorticity!(sheet₊, sheet₋, plate, motion, t, lesp = 0.0, tesp = 0.0)\n",
    "    z₊ = (sheet₊.blobs[end].z + 2plate.zs[end])/3\n",
    "    z₋ = (sheet₋.blobs[end].z + 2plate.zs[1])/3\n",
    "    \n",
    "    segment₊ = Vortex.Blob.([sheet₊.blobs[end].z, z₊], [0.5, 0.5], δ)\n",
    "    segment₋ = Vortex.Blob.([sheet₋.blobs[end].z, z₋], [0.5, 0.5], δ)\n",
    "    Plates.enforce_no_flow_through!(plate, motion, (sheet₊, sheet₋), t)\n",
    "    \n",
    "    Γ₊, Γ₋, _, _ = Plates.vorticity_flux!(plate, segment₊, segment₋, t, lesp, tesp);\n",
    "    Vortex.Sheets.append_segment!(sheet₊, z₊, Γ₊)\n",
    "    Vortex.Sheets.append_segment!(sheet₋, z₋, Γ₋)\n",
    "end"
   ]
  },
  {
   "cell_type": "markdown",
   "metadata": {},
   "source": [
    "### Discretize the plate and sheets"
   ]
  },
  {
   "cell_type": "markdown",
   "metadata": {},
   "source": [
    "We are simulating a flat plate with zero thickness impulsively translating horizontally at a fixed velocity and angle of attack"
   ]
  },
  {
   "cell_type": "code",
   "execution_count": 4,
   "metadata": {},
   "outputs": [],
   "source": [
    "L = 2.0   # chord length\n",
    "N = 128   # number of plate control points (distributed along a extrema Chebyshev grid)\n",
    "\n",
    "ċ = 0.5L  # translation velocity\n",
    "α = π/9   # angle of attack\n",
    "\n",
    "Δt = 1e-2; # time step\n",
    "\n",
    "plate = Plate(N, L, zero(ComplexF64), α)\n",
    "motion = Plates.RigidBodyMotion(ċ, 0.0);"
   ]
  },
  {
   "cell_type": "markdown",
   "metadata": {},
   "source": [
    "We place the initial segments of the vortex sheets perpendicularly off each edge of the plate.\n",
    "The sheets themselves are represented as discrete vortex blobs, all with the same blob radius `δ`.\n",
    "Both segments initially have unit circulation."
   ]
  },
  {
   "cell_type": "code",
   "execution_count": 5,
   "metadata": {},
   "outputs": [
    {
     "data": {
      "text/plain": [
       "Vortex Sheet: L ≈ 0.01, Γ = 1.0, δ = 0.01"
      ]
     },
     "execution_count": 5,
     "metadata": {},
     "output_type": "execute_result"
    }
   ],
   "source": [
    "Δz₀ = im*Δt*exp(im*α)\n",
    "z₋, z₊ = plate.zs[[1,N]]\n",
    "\n",
    "δ = 0.01\n",
    "\n",
    "sheet₊ = Vortex.Sheet([0.5, 1.5] .* Δz₀ + z₊, [0.0, 1.0], δ)\n",
    "sheet₋ = Vortex.Sheet([0.5, 1.5] .* Δz₀ + z₋, [0.0, 1.0], δ)"
   ]
  },
  {
   "cell_type": "markdown",
   "metadata": {},
   "source": [
    "We then adjust the circulation in the vortex sheet segments to satisfy the leading and trailing edge suction parameters.\n",
    "Since we want the Kutta condition to be satisfied at the trailing edge, we set the critical trailing edge suction parameter to zero."
   ]
  },
  {
   "cell_type": "code",
   "execution_count": 6,
   "metadata": {},
   "outputs": [
    {
     "data": {
      "text/plain": [
       "Vortex Sheet: L ≈ 0.01, Γ = -0.193, δ = 0.01"
      ]
     },
     "execution_count": 6,
     "metadata": {},
     "output_type": "execute_result"
    }
   ],
   "source": [
    "lesp = 0.1\n",
    "tesp = 0.0\n",
    "Plates.enforce_no_flow_through!(plate, motion, (), 0)\n",
    "\n",
    "Γ₊, Γ₋, _, _ = Plates.vorticity_flux(plate, sheet₊, sheet₋, 0, lesp, tesp);\n",
    "\n",
    "sheet₊ = Vortex.Sheet([0.5, 1.5] .* Δz₀ + z₊, [0.0, Γ₊], δ)\n",
    "sheet₋ = Vortex.Sheet([0.5, 1.5] .* Δz₀ + z₋, [0.0, Γ₋], δ)"
   ]
  },
  {
   "cell_type": "markdown",
   "metadata": {},
   "source": [
    "We organize the flow elements into the plate and ambient elements."
   ]
  },
  {
   "cell_type": "code",
   "execution_count": 7,
   "metadata": {
    "collapsed": true
   },
   "outputs": [],
   "source": [
    "ambient_sys = (sheet₊, sheet₋)\n",
    "sys = (plate, ambient_sys)\n",
    "ẋs = (motion, allocate_velocity(ambient_sys));"
   ]
  },
  {
   "cell_type": "markdown",
   "metadata": {},
   "source": [
    "## Time-Marching"
   ]
  },
  {
   "cell_type": "markdown",
   "metadata": {},
   "source": [
    "We use forward Euler to evolve the system and apply filtering on both the leading and trailing edge vortex sheets to surpress small-scale instabilities."
   ]
  },
  {
   "cell_type": "code",
   "execution_count": 8,
   "metadata": {},
   "outputs": [],
   "source": [
    "tf = 9\n",
    "T = 0:Δt:tf\n",
    "\n",
    "for t in T\n",
    "    TimeMarching.forward_euler!(sys, sys, t, Δt, compute_ẋ!, advect!, ẋs)\n",
    "\n",
    "    # Redistribute the points along the free vortex sheet to be at least 2UΔt\n",
    "    # apart from each other.  At the same time, we filter out any length scales\n",
    "    # along the sheet shorter than 6UΔt\n",
    "    for s in 1:2\n",
    "        Sheets.arclength(sys[2][s]) ≥ 3Δt && Sheets.filter!(sys[2][s], 2Δt, 6Δt)\n",
    "    end\n",
    "    \n",
    "    shed_new_vorticity!(sys[2][1], sys[2][2], sys[1], ẋs[1], t + Δt, lesp, tesp)\n",
    "end"
   ]
  },
  {
   "cell_type": "markdown",
   "metadata": {},
   "source": [
    "## Plotting"
   ]
  },
  {
   "cell_type": "markdown",
   "metadata": {},
   "source": [
    "Most flow elements in the library has [plot recipes](https://github.com/JuliaPlots/RecipesBase.jl) defined for them.\n",
    "So once [`Plots.jl`](https://github.com/JuliaPlots/Plots.jl) is installed along with the appropriate backend, we can directly call `plot` on the potential flow elements."
   ]
  },
  {
   "cell_type": "code",
   "execution_count": 9,
   "metadata": {},
   "outputs": [
    {
     "data": {
      "text/plain": [
       ":colorbrewer"
      ]
     },
     "execution_count": 9,
     "metadata": {},
     "output_type": "execute_result"
    }
   ],
   "source": [
    "using Plots\n",
    "clibrary(:colorbrewer)"
   ]
  },
  {
   "cell_type": "code",
   "execution_count": 10,
   "metadata": {},
   "outputs": [
    {
     "data": {
      "text/html": [
       "<img src=\"data:image/png;base64,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\" />"
      ]
     },
     "execution_count": 10,
     "metadata": {},
     "output_type": "execute_result"
    }
   ],
   "source": [
    "plot(sys, ratio = 1, color = :RdBu_r, clims = (-0.5, 0.5), \n",
    "     legend = :none, colorbar = :right, colorbar_title = \"\\$\\\\gamma\\$\", \n",
    "     size = (600, 150), grid = false)"
   ]
  }
 ],
 "metadata": {
  "kernelspec": {
   "display_name": "Julia 0.6.3-pre",
   "language": "julia",
   "name": "julia-0.6"
  },
  "language_info": {
   "file_extension": ".jl",
   "mimetype": "application/julia",
   "name": "julia",
   "version": "0.6.1"
  }
 },
 "nbformat": 4,
 "nbformat_minor": 2
}
