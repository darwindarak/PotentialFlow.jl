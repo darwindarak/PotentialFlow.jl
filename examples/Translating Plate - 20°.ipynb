{
 "cells": [
  {
   "cell_type": "markdown",
   "metadata": {},
   "source": [
    "# Translating Plate at 20°"
   ]
  },
  {
   "cell_type": "code",
   "execution_count": 1,
   "metadata": {},
   "outputs": [
    {
     "data": {
      "text/plain": [
       "plot_system (generic function with 1 method)"
      ]
     },
     "execution_count": 1,
     "metadata": {},
     "output_type": "execute_result"
    }
   ],
   "source": [
    "using PyPlot\n",
    "using VortexModel\n",
    "\n",
    "function plot_system(sys)\n",
    "    plate, (sheet₊, sheet₋) = sys\n",
    "    plot(real.(plate.zs[[1,N]]), imag.(plate.zs[[1,N]]), \"k\")\n",
    "    plot(real.(getfield.(sheet₊.blobs, :z)), imag.(getfield.(sheet₊.blobs, :z)), linewidth = 1, color=\"#e41a1c\")\n",
    "    plot(real.(getfield.(sheet₋.blobs, :z)), imag.(getfield.(sheet₋.blobs, :z)), linewidth = 1, color=\"#377eb8\")\n",
    "    axis(:scaled)\n",
    "end"
   ]
  },
  {
   "cell_type": "markdown",
   "metadata": {},
   "source": [
    "## Parameters"
   ]
  },
  {
   "cell_type": "markdown",
   "metadata": {},
   "source": [
    "We are simulating a flat plate with zero thickness impulsively translating horizontally:"
   ]
  },
  {
   "cell_type": "code",
   "execution_count": 2,
   "metadata": {
    "collapsed": true
   },
   "outputs": [],
   "source": [
    "L = 2.0   # chord length\n",
    "ċ = 0.5L  # translation velocity\n",
    "α = π/9   # angle of attack\n",
    "\n",
    "N = 128   # number of plate control points\n",
    "\n",
    "Δt = 1e-2; # time step"
   ]
  },
  {
   "cell_type": "markdown",
   "metadata": {},
   "source": [
    "We discretize the shear layers as vortex sheets, and assume that the Kutta condition is enforced at the trailing edge, and the suction parameter at the leading edge is kept below a critical value."
   ]
  },
  {
   "cell_type": "code",
   "execution_count": 3,
   "metadata": {},
   "outputs": [
    {
     "data": {
      "text/plain": [
       "0.0"
      ]
     },
     "execution_count": 3,
     "metadata": {},
     "output_type": "execute_result"
    }
   ],
   "source": [
    "δ = 0.01\n",
    "lesp = 0.1\n",
    "tesp = 0.0"
   ]
  },
  {
   "cell_type": "markdown",
   "metadata": {},
   "source": [
    "The centers of new vortex sheet segments are placed a third of the distance between the edges of the plate to last segment of sheet:"
   ]
  },
  {
   "cell_type": "code",
   "execution_count": 4,
   "metadata": {},
   "outputs": [
    {
     "data": {
      "text/plain": [
       "shed_new_vorticity! (generic function with 3 methods)"
      ]
     },
     "execution_count": 4,
     "metadata": {},
     "output_type": "execute_result"
    }
   ],
   "source": [
    "function shed_new_vorticity!(sheet₊, sheet₋, plate, motion, lesp = 0.0, tesp = 0.0)\n",
    "    z₊ = (sheet₊.blobs[end].z + 2plate.zs[end])/3\n",
    "    z₋ = (sheet₋.blobs[end].z + 2plate.zs[1])/3\n",
    "    \n",
    "    segment₊ = Vortex.Blob.([sheet₊.blobs[end].z, z₊], [0.5, 0.5], δ)\n",
    "    segment₋ = Vortex.Blob.([sheet₋.blobs[end].z, z₋], [0.5, 0.5], δ)\n",
    "    Vortex.Plates.enforce_no_flow_through!(plate, motion, (sheet₊, sheet₋))\n",
    "    \n",
    "    Γ₊, Γ₋, _, _ = Vortex.Plates.vorticity_flux(plate, segment₊, segment₋, lesp, tesp);\n",
    "    Vortex.Sheets.append_segment!(sheet₊, z₊, Γ₊)\n",
    "    Vortex.Sheets.append_segment!(sheet₋, z₋, Γ₋)\n",
    "end"
   ]
  },
  {
   "cell_type": "markdown",
   "metadata": {},
   "source": [
    "We apply Fourier filtering to the sheet to redistribute the sheet's control points and supress small scale instabilities."
   ]
  },
  {
   "cell_type": "code",
   "execution_count": 5,
   "metadata": {},
   "outputs": [
    {
     "data": {
      "text/plain": [
       "filter_sheet! (generic function with 1 method)"
      ]
     },
     "execution_count": 5,
     "metadata": {},
     "output_type": "execute_result"
    }
   ],
   "source": [
    "function filter_sheet!(sheet, Δs, Δf)\n",
    "    if length(sheet) < 5\n",
    "        return\n",
    "    end\n",
    "    zs = Vortex.position.(sheet.blobs)\n",
    "    zs, (Γs,) = Vortex.Sheets.filter_by_arclength(zs, Δs, Δf, sheet.Γs)\n",
    "    Vortex.Sheets.remesh!(sheet, zs, Γs)\n",
    "end"
   ]
  },
  {
   "cell_type": "markdown",
   "metadata": {},
   "source": [
    "## Initialization"
   ]
  },
  {
   "cell_type": "markdown",
   "metadata": {},
   "source": [
    "We place the initial segments of the vortex sheet perpendicular to the edges of the plate"
   ]
  },
  {
   "cell_type": "code",
   "execution_count": 6,
   "metadata": {
    "collapsed": true
   },
   "outputs": [],
   "source": [
    "plate = Vortex.Plate(N, L, zero(Complex128), α)\n",
    "motion = Vortex.Plates.PlateMotion(ċ, 0.0)\n",
    "\n",
    "Δz₀ = im*Δt*exp(im*α)\n",
    "z₋, z₊ = plate.zs[[1,N]]\n",
    "\n",
    "sheet₊ = Vortex.Sheet([0.5, 1.5] .* Δz₀ + z₊, [0.0, 1.0], δ)\n",
    "sheet₋ = Vortex.Sheet([0.5, 1.5] .* Δz₀ + z₋, [0.0, 1.0], δ)\n",
    "\n",
    "Vortex.Plates.enforce_no_flow_through!(plate, motion, ())\n",
    "Γ₊, Γ₋, _, _ = Vortex.Plates.vorticity_flux(plate, sheet₊, sheet₋, lesp, tesp);\n",
    "\n",
    "sheet₊ = Vortex.Sheet([0.5, 1.5] .* Δz₀ + z₊, [0.0, Γ₊], δ)\n",
    "sheet₋ = Vortex.Sheet([0.5, 1.5] .* Δz₀ + z₋, [0.0, Γ₋], δ)\n",
    "\n",
    "ambient_sys = (sheet₊, sheet₋)\n",
    "sys = (plate, ambient_sys)\n",
    "ẋs = (motion, allocate_velocity(ambient_sys));"
   ]
  },
  {
   "cell_type": "markdown",
   "metadata": {},
   "source": [
    "At every time-step, before computing the self induced velocity of the system, we must first enforce the no-flow-through condition on the plate.  So the velocity function for time marching is:"
   ]
  },
  {
   "cell_type": "code",
   "execution_count": 7,
   "metadata": {},
   "outputs": [
    {
     "data": {
      "text/plain": [
       "compute_ẋ! (generic function with 1 method)"
      ]
     },
     "execution_count": 7,
     "metadata": {},
     "output_type": "execute_result"
    }
   ],
   "source": [
    "function compute_ẋ!(ẋ, x, t)\n",
    "    plate, ambient_sys = x\n",
    "    motion = ẋ[1]\n",
    "    \n",
    "    Vortex.Plates.enforce_no_flow_through!(plate, motion, ambient_sys)\n",
    "    reset_velocity!(ẋ, x)\n",
    "    self_induce_velocity!(ẋ, x)\n",
    "end"
   ]
  },
  {
   "cell_type": "markdown",
   "metadata": {},
   "source": [
    "We apply filtering on both the leading and trailing edge vortex sheets, and use the [LESP criteria](https://doi.org/10.1017/jfm.2014.297) for leading edge vortex shedding and the Kutta condition for trailing edge vortex shedding:"
   ]
  },
  {
   "cell_type": "code",
   "execution_count": 8,
   "metadata": {
    "collapsed": true
   },
   "outputs": [],
   "source": [
    "for t in 0.0:Δt:9.0\n",
    "    forward_euler!(sys, sys, t, Δt, compute_ẋ!, advect!, ẋs)\n",
    "\n",
    "    filter_sheet!(sheet₊, 3Δt, 6Δt)\n",
    "    filter_sheet!(sheet₋, 3Δt, 6Δt)\n",
    "     \n",
    "    shed_new_vorticity!(sheet₊, sheet₋, plate, motion, lesp, tesp)\n",
    "end\n"
   ]
  },
  {
   "cell_type": "code",
   "execution_count": 9,
   "metadata": {},
   "outputs": [
    {
     "data": {
      "image/png": "[encoded data removed]",
      "text/plain": [
       "PyPlot.Figure(PyObject <matplotlib.figure.Figure object at 0x7f3fe6ad3588>)"
      ]
     },
     "metadata": {},
     "output_type": "display_data"
    }
   ],
   "source": [
    "plot_system(sys);"
   ]
  }
 ],
 "metadata": {
  "kernelspec": {
   "display_name": "Julia 0.6.0-pre.beta",
   "language": "julia",
   "name": "julia-0.6"
  },
  "language_info": {
   "file_extension": ".jl",
   "mimetype": "application/julia",
   "name": "julia",
   "version": "0.6.0"
  }
 },
 "nbformat": 4,
 "nbformat_minor": 2
}
